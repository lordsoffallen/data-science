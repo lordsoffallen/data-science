{
 "cells": [
  {
   "cell_type": "markdown",
   "metadata": {},
   "source": [
    "## Bayes Theorem"
   ]
  },
  {
   "cell_type": "markdown",
   "metadata": {},
   "source": [
    "$P(A|B) = \\frac{P(B|A)* P(A)}{P(B)}$\n",
    "\n",
    "* P(A|B) = Probability of 'A' being true when given that 'B' is true\n",
    "* P(A) = Probability of 'A' being true\n",
    "* P(B|A) = Probability of 'B' being true when given that 'A' is true\n",
    "* P(B) = Probability of 'A' being true\n",
    "\n",
    "* Let's see how this formula is derived\n",
    "    * P(A|B) = P(A and B) / P(B)\n",
    "    * P(B|A) = P(B and A) / P(A)\n",
    "    * P(A and B) = P(B and A)\n",
    "    * P(A|B).P(B) = P(B|A).P(A)\n",
    "    * P(A|B) = P(B|A) . P(A) / P(B)\n",
    "\n",
    "* Example:\n",
    "    * Suppose there is 50 childeren in a school. One of these 50 children can catch the 'X' illness. A child who has the 'X'illness has given %90 on a test, A child who has not the 'X' illness has given %10 on a test. If the test is positive, what is the probability of this child being really sick?\n",
    "    \n",
    "       * P(A) : Probablilty of being ill = 1/50\n",
    "       * P(B) : Probability of giving positive on the test = 1/50 * 0.90 + 49/50 * 0.10 = 0.116\n",
    "       * P(A|B) : While test is positive, what is the probability of the child being sick? \n",
    "       * P(B|A) : Probability of the child who has the 'X' illness giving positive on the test = 0.9\n",
    "       * P(A|B) = P(B|A) * P(A) / P(B) => (0.9 * 1/50) / (0.116) = %15"
   ]
  },
  {
   "cell_type": "code",
   "execution_count": null,
   "metadata": {},
   "outputs": [],
   "source": []
  }
 ],
 "metadata": {
  "kernelspec": {
   "display_name": "Python 3",
   "language": "python",
   "name": "python3"
  },
  "language_info": {
   "codemirror_mode": {
    "name": "ipython",
    "version": 3
   },
   "file_extension": ".py",
   "mimetype": "text/x-python",
   "name": "python",
   "nbconvert_exporter": "python",
   "pygments_lexer": "ipython3",
   "version": "3.7.0"
  },
  "toc": {
   "base_numbering": 1,
   "nav_menu": {},
   "number_sections": true,
   "sideBar": true,
   "skip_h1_title": false,
   "title_cell": "Table of Contents",
   "title_sidebar": "Contents",
   "toc_cell": false,
   "toc_position": {},
   "toc_section_display": true,
   "toc_window_display": false
  },
  "varInspector": {
   "cols": {
    "lenName": 16,
    "lenType": 16,
    "lenVar": 40
   },
   "kernels_config": {
    "python": {
     "delete_cmd_postfix": "",
     "delete_cmd_prefix": "del ",
     "library": "var_list.py",
     "varRefreshCmd": "print(var_dic_list())"
    },
    "r": {
     "delete_cmd_postfix": ") ",
     "delete_cmd_prefix": "rm(",
     "library": "var_list.r",
     "varRefreshCmd": "cat(var_dic_list()) "
    }
   },
   "types_to_exclude": [
    "module",
    "function",
    "builtin_function_or_method",
    "instance",
    "_Feature"
   ],
   "window_display": false
  }
 },
 "nbformat": 4,
 "nbformat_minor": 2
}
